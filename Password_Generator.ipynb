{
  "nbformat": 4,
  "nbformat_minor": 0,
  "metadata": {
    "colab": {
      "provenance": []
    },
    "kernelspec": {
      "name": "python3",
      "display_name": "Python 3"
    },
    "language_info": {
      "name": "python"
    }
  },
  "cells": [
    {
      "cell_type": "code",
      "source": [
        "!python password_generator.py"
      ],
      "metadata": {
        "collapsed": true,
        "id": "jX6Op6nvICMU"
      },
      "execution_count": null,
      "outputs": []
    },
    {
      "cell_type": "code",
      "source": [
        "import random\n",
        "import string\n",
        "\n",
        "def generate_password(length, use_letters, use_numbers, use_symbols):\n",
        "    \"\"\"Generate a random password based on user-defined criteria.\"\"\"\n",
        "    characters = \"\"\n",
        "    if use_letters:\n",
        "        characters += string.ascii_letters\n",
        "    if use_numbers:\n",
        "        characters += string.digits\n",
        "    if use_symbols:\n",
        "        characters += string.punctuation\n",
        "\n",
        "    if not characters:\n",
        "        raise ValueError(\"At least one character type must be selected.\")\n",
        "\n",
        "    password = ''.join(random.choice(characters) for _ in range(length))\n",
        "    return password\n",
        "\n",
        "def main():\n",
        "    print(\"Welcome to the Random Password Generator!\")\n",
        "\n",
        "    try:\n",
        "        length = int(input(\"Enter the password length: \"))\n",
        "        use_letters = input(\"Include letters? (yes/no): \").strip().lower() == 'yes'\n",
        "        use_numbers = input(\"Include numbers? (yes/no): \").strip().lower() == 'yes'\n",
        "        use_symbols = input(\"Include symbols? (yes/no): \").strip().lower() == 'yes'\n",
        "\n",
        "        password = generate_password(length, use_letters, use_numbers, use_symbols)\n",
        "        print(f\"Generated password: {password}\")\n",
        "\n",
        "    except ValueError as ve:\n",
        "        print(f\"Error: {ve}\")\n",
        "    except Exception as e:\n",
        "        print(f\"An unexpected error occurred: {e}\")\n",
        "\n",
        "if __name__ == \"__main__\":\n",
        "    main()\n",
        "11\n"
      ],
      "metadata": {
        "colab": {
          "base_uri": "https://localhost:8080/"
        },
        "collapsed": true,
        "id": "hhX4RHwcIQ4c",
        "outputId": "cc2ba3d9-c867-4bf5-f2db-141bcfaf958b"
      },
      "execution_count": null,
      "outputs": [
        {
          "output_type": "stream",
          "name": "stdout",
          "text": [
            "Welcome to the Random Password Generator!\n",
            "Enter the password length: 11\n",
            "Include letters? (yes/no): yes\n",
            "Include numbers? (yes/no): yes\n",
            "Include symbols? (yes/no): yes\n",
            "Generated password: O!u\".RA#lF{\n"
          ]
        },
        {
          "output_type": "execute_result",
          "data": {
            "text/plain": [
              "11"
            ]
          },
          "metadata": {},
          "execution_count": 28
        }
      ]
    }
  ]
}